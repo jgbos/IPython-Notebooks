{
 "metadata": {
  "name": ""
 },
 "nbformat": 3,
 "nbformat_minor": 0,
 "worksheets": [
  {
   "cells": [
    {
     "cell_type": "code",
     "collapsed": false,
     "input": [
      "import pandas as pd\n",
      "import numpy as np\n",
      "import glob\n",
      "import re\n",
      "\n",
      "%matplotlib inline\n",
      "import matplotlib.pyplot as plt"
     ],
     "language": "python",
     "metadata": {},
     "outputs": [],
     "prompt_number": 1
    },
    {
     "cell_type": "code",
     "collapsed": false,
     "input": [
      "# read PSVs into DataFrame\n",
      "games = []\n",
      "files = glob.glob('cbb-play-data/*.psv')\n",
      "for f in files:\n",
      "    df = pd.read_csv(f, sep='|')\n",
      "    df['game_id'] = f.replace('.psv', '')\n",
      "    games.append(df)\n",
      "\n",
      "print 'Read {0} games'.format(len(games))"
     ],
     "language": "python",
     "metadata": {},
     "outputs": [
      {
       "output_type": "stream",
       "stream": "stdout",
       "text": [
        "Read 2530 games\n"
       ]
      }
     ],
     "prompt_number": 2
    },
    {
     "cell_type": "code",
     "collapsed": false,
     "input": [
      "games_df = pd.concat(games)\n",
      "\n",
      "# add event_id to maintain event order\n",
      "# we can use the index since pandas defaults to the Nth row of the file\n",
      "games_df['event_id'] = games_df.index\n",
      "\n",
      "# melt data into one column for home/away and another for event\n",
      "# maintain play order by sorting on event_id\n",
      "melted = pd.melt(games_df, id_vars=['event_id', 'game_id', 'time', 'score'],\n",
      "                     var_name='team', value_name='event')\n",
      "melted.sort_index(by=['game_id', 'event_id'], inplace=True)\n",
      "\n",
      "# drop rows with NaN events - an event only belongs to one team\n",
      "melted = melted[melted.event.notnull()]\n",
      "print melted[10:15]"
     ],
     "language": "python",
     "metadata": {},
     "outputs": [
      {
       "output_type": "stream",
       "stream": "stdout",
       "text": [
        "        event_id                  game_id   time score  team  \\\n",
        "10            10  cbb-play-data/323140038  17:56   3-4  away   \n",
        "11            11  cbb-play-data/323140038  17:40   3-4  away   \n",
        "801719        12  cbb-play-data/323140038  17:40   3-4  home   \n",
        "801720        13  cbb-play-data/323140038  17:35   3-4  home   \n",
        "14            14  cbb-play-data/323140038  17:35   3-4  away   \n",
        "\n",
        "                                          event  \n",
        "10              Karl Cochran Defensive Rebound.  \n",
        "11      Karl Cochran missed Three Point Jumper.  \n",
        "801719          Askia Booker Defensive Rebound.  \n",
        "801720              Askia Booker missed Jumper.  \n",
        "14           Spencer Collins Defensive Rebound.  \n"
       ]
      }
     ],
     "prompt_number": 3
    },
    {
     "cell_type": "code",
     "collapsed": false,
     "input": [
      "# label whether three pointers were made or missed\n",
      "get_shot_result = lambda x: re.findall('(made|missed)', x)[0]\n",
      "shot3 = melted.event.str.contains('Three Point')\n",
      "melted['shot_result'] = melted[shot3].event.apply(get_shot_result)"
     ],
     "language": "python",
     "metadata": {},
     "outputs": [],
     "prompt_number": 4
    },
    {
     "cell_type": "code",
     "collapsed": false,
     "input": [
      "def criteria(df):\n",
      "    \"\"\"Labels if the three pointer was preceded by an offensive rebound.\"\"\"\n",
      "    df['after_oreb'] = ((df.event.str.contains('Three Point')) & \\\n",
      "                        df.event.shift(1).str.contains('Offensive Rebound'))\n",
      "    df.after_oreb.fillna(False, inplace=True)\n",
      "    return df\n",
      "\n",
      "melted = melted.groupby('game_id').apply(criteria)\n",
      "melted[melted.shot_result.notnull()].head(3)"
     ],
     "language": "python",
     "metadata": {},
     "outputs": [
      {
       "html": [
        "<div style=\"max-height:1000px;max-width:1500px;overflow:auto;\">\n",
        "<table border=\"1\" class=\"dataframe\">\n",
        "  <thead>\n",
        "    <tr style=\"text-align: right;\">\n",
        "      <th></th>\n",
        "      <th>event_id</th>\n",
        "      <th>game_id</th>\n",
        "      <th>time</th>\n",
        "      <th>score</th>\n",
        "      <th>team</th>\n",
        "      <th>event</th>\n",
        "      <th>shot_result</th>\n",
        "      <th>after_oreb</th>\n",
        "    </tr>\n",
        "  </thead>\n",
        "  <tbody>\n",
        "    <tr>\n",
        "      <th>801707</th>\n",
        "      <td> 0</td>\n",
        "      <td> cbb-play-data/323140038</td>\n",
        "      <td> 19:28</td>\n",
        "      <td> 0-0</td>\n",
        "      <td> home</td>\n",
        "      <td>           Askia Booker missed Three Point Jumper.</td>\n",
        "      <td> missed</td>\n",
        "      <td> False</td>\n",
        "    </tr>\n",
        "    <tr>\n",
        "      <th>2     </th>\n",
        "      <td> 2</td>\n",
        "      <td> cbb-play-data/323140038</td>\n",
        "      <td> 19:12</td>\n",
        "      <td> 0-0</td>\n",
        "      <td> away</td>\n",
        "      <td>           Karl Cochran missed Three Point Jumper.</td>\n",
        "      <td> missed</td>\n",
        "      <td> False</td>\n",
        "    </tr>\n",
        "    <tr>\n",
        "      <th>5     </th>\n",
        "      <td> 5</td>\n",
        "      <td> cbb-play-data/323140038</td>\n",
        "      <td> 18:43</td>\n",
        "      <td> 3-2</td>\n",
        "      <td> away</td>\n",
        "      <td> Spencer Collins made Three Point Jumper.  Assi...</td>\n",
        "      <td>   made</td>\n",
        "      <td> False</td>\n",
        "    </tr>\n",
        "  </tbody>\n",
        "</table>\n",
        "</div>"
       ],
       "metadata": {},
       "output_type": "pyout",
       "prompt_number": 5,
       "text": [
        "        event_id                  game_id   time score  team  \\\n",
        "801707         0  cbb-play-data/323140038  19:28   0-0  home   \n",
        "2              2  cbb-play-data/323140038  19:12   0-0  away   \n",
        "5              5  cbb-play-data/323140038  18:43   3-2  away   \n",
        "\n",
        "                                                    event shot_result  \\\n",
        "801707            Askia Booker missed Three Point Jumper.      missed   \n",
        "2                 Karl Cochran missed Three Point Jumper.      missed   \n",
        "5       Spencer Collins made Three Point Jumper.  Assi...        made   \n",
        "\n",
        "       after_oreb  \n",
        "801707      False  \n",
        "2           False  \n",
        "5           False  "
       ]
      }
     ],
     "prompt_number": 5
    },
    {
     "cell_type": "code",
     "collapsed": false,
     "input": [
      "threes = melted[melted.shot_result.notnull()]\n",
      "attempts = threes.groupby(['shot_result', 'after_oreb']).size().unstack(0)\n",
      "attempts['perc'] = attempts.made.astype(float) / (attempts.made + attempts.missed)\n",
      "print attempts"
     ],
     "language": "python",
     "metadata": {},
     "outputs": [
      {
       "output_type": "stream",
       "stream": "stdout",
       "text": [
        "shot_result   made  missed      perc\n",
        "after_oreb                          \n",
        "False        28688   55956  0.338925\n",
        "True          2505    4692  0.348062\n"
       ]
      }
     ],
     "prompt_number": 6
    },
    {
     "cell_type": "code",
     "collapsed": false,
     "input": [
      "attempts.index = ['No', 'Yes']\n",
      "plt.figure(figsize=[8, 6])\n",
      "attempts.perc.plot(kind='bar')\n",
      "plt.ylabel('3P%')\n",
      "plt.xlabel('After Offensive Rebound?')\n",
      "plt.grid(False);"
     ],
     "language": "python",
     "metadata": {},
     "outputs": [
      {
       "metadata": {},
       "output_type": "display_data",
       "png": "[encoded data removed]",
       "text": [
        "<matplotlib.figure.Figure at 0x117432890>"
       ]
      }
     ],
     "prompt_number": 7
    },
    {
     "cell_type": "code",
     "collapsed": false,
     "input": [
      "melted['minutes'] = melted.time.apply(lambda x: int(x.split(':')[0]))\n",
      "melted['seconds'] = melted.time.apply(lambda x: int(x.split(':')[1]))"
     ],
     "language": "python",
     "metadata": {},
     "outputs": [],
     "prompt_number": 8
    },
    {
     "cell_type": "code",
     "collapsed": false,
     "input": [
      "duped_cols = ['game_id', 'event_id', 'time', 'event']\n",
      "melted[melted.duplicated(cols=duped_cols)][:3]"
     ],
     "language": "python",
     "metadata": {},
     "outputs": [
      {
       "html": [
        "<div style=\"max-height:1000px;max-width:1500px;overflow:auto;\">\n",
        "<table border=\"1\" class=\"dataframe\">\n",
        "  <thead>\n",
        "    <tr style=\"text-align: right;\">\n",
        "      <th></th>\n",
        "      <th>event_id</th>\n",
        "      <th>game_id</th>\n",
        "      <th>time</th>\n",
        "      <th>score</th>\n",
        "      <th>team</th>\n",
        "      <th>event</th>\n",
        "      <th>shot_result</th>\n",
        "      <th>after_oreb</th>\n",
        "      <th>minutes</th>\n",
        "      <th>seconds</th>\n",
        "    </tr>\n",
        "  </thead>\n",
        "  <tbody>\n",
        "    <tr>\n",
        "      <th>801733</th>\n",
        "      <td> 26</td>\n",
        "      <td> cbb-play-data/323140038</td>\n",
        "      <td> 15:48</td>\n",
        "      <td> Colorado Full Timeout.</td>\n",
        "      <td> home</td>\n",
        "      <td> Colorado Full Timeout.</td>\n",
        "      <td> NaN</td>\n",
        "      <td> False</td>\n",
        "      <td> 15</td>\n",
        "      <td> 48</td>\n",
        "    </tr>\n",
        "    <tr>\n",
        "      <th>801758</th>\n",
        "      <td> 51</td>\n",
        "      <td> cbb-play-data/323140038</td>\n",
        "      <td> 11:50</td>\n",
        "      <td>  Wofford Full Timeout.</td>\n",
        "      <td> home</td>\n",
        "      <td>  Wofford Full Timeout.</td>\n",
        "      <td> NaN</td>\n",
        "      <td> False</td>\n",
        "      <td> 11</td>\n",
        "      <td> 50</td>\n",
        "    </tr>\n",
        "    <tr>\n",
        "      <th>801764</th>\n",
        "      <td> 57</td>\n",
        "      <td> cbb-play-data/323140038</td>\n",
        "      <td> 11:45</td>\n",
        "      <td> Colorado Full Timeout.</td>\n",
        "      <td> home</td>\n",
        "      <td> Colorado Full Timeout.</td>\n",
        "      <td> NaN</td>\n",
        "      <td> False</td>\n",
        "      <td> 11</td>\n",
        "      <td> 45</td>\n",
        "    </tr>\n",
        "  </tbody>\n",
        "</table>\n",
        "</div>"
       ],
       "metadata": {},
       "output_type": "pyout",
       "prompt_number": 9,
       "text": [
        "        event_id                  game_id   time                   score  \\\n",
        "801733        26  cbb-play-data/323140038  15:48  Colorado Full Timeout.   \n",
        "801758        51  cbb-play-data/323140038  11:50   Wofford Full Timeout.   \n",
        "801764        57  cbb-play-data/323140038  11:45  Colorado Full Timeout.   \n",
        "\n",
        "        team                   event shot_result after_oreb  minutes  seconds  \n",
        "801733  home  Colorado Full Timeout.         NaN      False       15       48  \n",
        "801758  home   Wofford Full Timeout.         NaN      False       11       50  \n",
        "801764  home  Colorado Full Timeout.         NaN      False       11       45  "
       ]
      }
     ],
     "prompt_number": 9
    },
    {
     "cell_type": "code",
     "collapsed": false,
     "input": [
      "melted.drop_duplicates(cols=['game_id', 'event_id', 'event'], inplace=True)"
     ],
     "language": "python",
     "metadata": {},
     "outputs": [],
     "prompt_number": 10
    },
    {
     "cell_type": "code",
     "collapsed": false,
     "input": [
      "melted['period_end'] = melted.event.apply(lambda x: x.startswith('End of'))\n",
      "melted[melted.period_end].head(3)"
     ],
     "language": "python",
     "metadata": {},
     "outputs": [
      {
       "html": [
        "<div style=\"max-height:1000px;max-width:1500px;overflow:auto;\">\n",
        "<table border=\"1\" class=\"dataframe\">\n",
        "  <thead>\n",
        "    <tr style=\"text-align: right;\">\n",
        "      <th></th>\n",
        "      <th>event_id</th>\n",
        "      <th>game_id</th>\n",
        "      <th>time</th>\n",
        "      <th>score</th>\n",
        "      <th>team</th>\n",
        "      <th>event</th>\n",
        "      <th>shot_result</th>\n",
        "      <th>after_oreb</th>\n",
        "      <th>minutes</th>\n",
        "      <th>seconds</th>\n",
        "      <th>period_end</th>\n",
        "    </tr>\n",
        "  </thead>\n",
        "  <tbody>\n",
        "    <tr>\n",
        "      <th>133</th>\n",
        "      <td> 133</td>\n",
        "      <td> cbb-play-data/323140038</td>\n",
        "      <td> 0:00</td>\n",
        "      <td> End of the 1st Half.</td>\n",
        "      <td> away</td>\n",
        "      <td> End of the 1st Half.</td>\n",
        "      <td> NaN</td>\n",
        "      <td> False</td>\n",
        "      <td> 0</td>\n",
        "      <td> 0</td>\n",
        "      <td> True</td>\n",
        "    </tr>\n",
        "    <tr>\n",
        "      <th>305</th>\n",
        "      <td> 305</td>\n",
        "      <td> cbb-play-data/323140038</td>\n",
        "      <td> 0:00</td>\n",
        "      <td> End of the 2nd Half.</td>\n",
        "      <td> away</td>\n",
        "      <td> End of the 2nd Half.</td>\n",
        "      <td> NaN</td>\n",
        "      <td> False</td>\n",
        "      <td> 0</td>\n",
        "      <td> 0</td>\n",
        "      <td> True</td>\n",
        "    </tr>\n",
        "    <tr>\n",
        "      <th>462</th>\n",
        "      <td> 155</td>\n",
        "      <td> cbb-play-data/323140041</td>\n",
        "      <td> 0:00</td>\n",
        "      <td> End of the 1st Half.</td>\n",
        "      <td> away</td>\n",
        "      <td> End of the 1st Half.</td>\n",
        "      <td> NaN</td>\n",
        "      <td> False</td>\n",
        "      <td> 0</td>\n",
        "      <td> 0</td>\n",
        "      <td> True</td>\n",
        "    </tr>\n",
        "  </tbody>\n",
        "</table>\n",
        "</div>"
       ],
       "metadata": {},
       "output_type": "pyout",
       "prompt_number": 11,
       "text": [
        "     event_id                  game_id  time                 score  team  \\\n",
        "133       133  cbb-play-data/323140038  0:00  End of the 1st Half.  away   \n",
        "305       305  cbb-play-data/323140038  0:00  End of the 2nd Half.  away   \n",
        "462       155  cbb-play-data/323140041  0:00  End of the 1st Half.  away   \n",
        "\n",
        "                    event shot_result after_oreb  minutes  seconds period_end  \n",
        "133  End of the 1st Half.         NaN      False        0        0       True  \n",
        "305  End of the 2nd Half.         NaN      False        0        0       True  \n",
        "462  End of the 1st Half.         NaN      False        0        0       True  "
       ]
      }
     ],
     "prompt_number": 11
    },
    {
     "cell_type": "code",
     "collapsed": false,
     "input": [
      "calculate_period = lambda x: x.shift(1).cumsum().fillna(0) + 1\n",
      "melted['period'] = melted.groupby('game_id').period_end.apply(calculate_period)\n",
      "melted[melted.period_end].head(3)"
     ],
     "language": "python",
     "metadata": {},
     "outputs": [
      {
       "html": [
        "<div style=\"max-height:1000px;max-width:1500px;overflow:auto;\">\n",
        "<table border=\"1\" class=\"dataframe\">\n",
        "  <thead>\n",
        "    <tr style=\"text-align: right;\">\n",
        "      <th></th>\n",
        "      <th>event_id</th>\n",
        "      <th>game_id</th>\n",
        "      <th>time</th>\n",
        "      <th>score</th>\n",
        "      <th>team</th>\n",
        "      <th>event</th>\n",
        "      <th>shot_result</th>\n",
        "      <th>after_oreb</th>\n",
        "      <th>minutes</th>\n",
        "      <th>seconds</th>\n",
        "      <th>period_end</th>\n",
        "      <th>period</th>\n",
        "    </tr>\n",
        "  </thead>\n",
        "  <tbody>\n",
        "    <tr>\n",
        "      <th>133</th>\n",
        "      <td> 133</td>\n",
        "      <td> cbb-play-data/323140038</td>\n",
        "      <td> 0:00</td>\n",
        "      <td> End of the 1st Half.</td>\n",
        "      <td> away</td>\n",
        "      <td> End of the 1st Half.</td>\n",
        "      <td> NaN</td>\n",
        "      <td> False</td>\n",
        "      <td> 0</td>\n",
        "      <td> 0</td>\n",
        "      <td> True</td>\n",
        "      <td> 1</td>\n",
        "    </tr>\n",
        "    <tr>\n",
        "      <th>305</th>\n",
        "      <td> 305</td>\n",
        "      <td> cbb-play-data/323140038</td>\n",
        "      <td> 0:00</td>\n",
        "      <td> End of the 2nd Half.</td>\n",
        "      <td> away</td>\n",
        "      <td> End of the 2nd Half.</td>\n",
        "      <td> NaN</td>\n",
        "      <td> False</td>\n",
        "      <td> 0</td>\n",
        "      <td> 0</td>\n",
        "      <td> True</td>\n",
        "      <td> 2</td>\n",
        "    </tr>\n",
        "    <tr>\n",
        "      <th>462</th>\n",
        "      <td> 155</td>\n",
        "      <td> cbb-play-data/323140041</td>\n",
        "      <td> 0:00</td>\n",
        "      <td> End of the 1st Half.</td>\n",
        "      <td> away</td>\n",
        "      <td> End of the 1st Half.</td>\n",
        "      <td> NaN</td>\n",
        "      <td> False</td>\n",
        "      <td> 0</td>\n",
        "      <td> 0</td>\n",
        "      <td> True</td>\n",
        "      <td> 1</td>\n",
        "    </tr>\n",
        "  </tbody>\n",
        "</table>\n",
        "</div>"
       ],
       "metadata": {},
       "output_type": "pyout",
       "prompt_number": 12,
       "text": [
        "     event_id                  game_id  time                 score  team  \\\n",
        "133       133  cbb-play-data/323140038  0:00  End of the 1st Half.  away   \n",
        "305       305  cbb-play-data/323140038  0:00  End of the 2nd Half.  away   \n",
        "462       155  cbb-play-data/323140041  0:00  End of the 1st Half.  away   \n",
        "\n",
        "                    event shot_result after_oreb  minutes  seconds period_end  \\\n",
        "133  End of the 1st Half.         NaN      False        0        0       True   \n",
        "305  End of the 2nd Half.         NaN      False        0        0       True   \n",
        "462  End of the 1st Half.         NaN      False        0        0       True   \n",
        "\n",
        "    period  \n",
        "133      1  \n",
        "305      2  \n",
        "462      1  "
       ]
      }
     ],
     "prompt_number": 12
    },
    {
     "cell_type": "code",
     "collapsed": false,
     "input": [
      "calculate_period = lambda x: x.shift(1).cumsum().fillna(0) + 1\n",
      "melted['period'] = melted.groupby('game_id').period_end.apply(calculate_period)"
     ],
     "language": "python",
     "metadata": {},
     "outputs": [],
     "prompt_number": 13
    },
    {
     "cell_type": "code",
     "collapsed": false,
     "input": [
      "melted.set_index('game_id', inplace=True)\n",
      "\n",
      "# 40min regulation game + (# periods - 2 halves) * 5min OTs\n",
      "gametime = lambda x: 40 + (x - 2) * 5\n",
      "melted['gametime'] = melted.groupby(level=0).period.max().apply(gametime)\n",
      "melted.reset_index('game_id', inplace=True)\n",
      "melted.groupby('gametime').game_id.nunique()"
     ],
     "language": "python",
     "metadata": {},
     "outputs": [
      {
       "metadata": {},
       "output_type": "pyout",
       "prompt_number": 14,
       "text": [
        "gametime\n",
        "35            44\n",
        "40          2062\n",
        "45           373\n",
        "50            41\n",
        "55             8\n",
        "60             2\n",
        "dtype: int64"
       ]
      }
     ],
     "prompt_number": 14
    },
    {
     "cell_type": "code",
     "collapsed": false,
     "input": [
      "melted.loc[melted.gametime == 35, 'gametime'] = 40"
     ],
     "language": "python",
     "metadata": {},
     "outputs": [],
     "prompt_number": 15
    },
    {
     "cell_type": "code",
     "collapsed": false,
     "input": [
      "def clock_to_secs_left(df):\n",
      "    \"\"\"Calculates the total seconds left in the game.\"\"\"\n",
      "    df['secs_left'] = np.nan\n",
      "    df.loc[df.period == 1, 'secs_left'] = (df.minutes * 60) + 1200 + df.seconds\n",
      "    df.loc[df.period > 1, 'secs_left'] = (df.minutes * 60) + df.seconds\n",
      "    return df"
     ],
     "language": "python",
     "metadata": {},
     "outputs": [],
     "prompt_number": 16
    },
    {
     "cell_type": "code",
     "collapsed": false,
     "input": [
      "clock_to_secs_left(melted)\n",
      "print melted[['game_id', 'time', 'event', 'period', 'secs_left']][:5]"
     ],
     "language": "python",
     "metadata": {},
     "outputs": [
      {
       "output_type": "stream",
       "stream": "stdout",
       "text": [
        "                   game_id   time  \\\n",
        "0  cbb-play-data/323140038  19:28   \n",
        "1  cbb-play-data/323140038  19:28   \n",
        "2  cbb-play-data/323140038  19:12   \n",
        "3  cbb-play-data/323140038  19:12   \n",
        "4  cbb-play-data/323140038  19:05   \n",
        "\n",
        "                                               event period  secs_left  \n",
        "0            Askia Booker missed Three Point Jumper.      1       2368  \n",
        "1                         Wofford Defensive Rebound.      1       2368  \n",
        "2            Karl Cochran missed Three Point Jumper.      1       2352  \n",
        "3               Spencer Dinwiddie Defensive Rebound.      1       2352  \n",
        "4  Askia Booker made Layup.  Assisted by Spencer ...      1       2345  \n"
       ]
      }
     ],
     "prompt_number": 17
    },
    {
     "cell_type": "code",
     "collapsed": false,
     "input": [
      "melted['secs_elapsed'] = melted.secs_left.shift(1) - melted.secs_left\n",
      "\n",
      "mask = (melted.secs_elapsed >= 0) & (melted.secs_elapsed <= 7)\n",
      "threes_after_orebs = melted[melted.after_oreb & mask]"
     ],
     "language": "python",
     "metadata": {},
     "outputs": [],
     "prompt_number": 18
    },
    {
     "cell_type": "code",
     "collapsed": false,
     "input": [
      "grouped = threes_after_orebs.groupby(['shot_result', 'secs_elapsed']).size()\n",
      "grouped = grouped.unstack(0).fillna(0)"
     ],
     "language": "python",
     "metadata": {},
     "outputs": [],
     "prompt_number": 19
    },
    {
     "cell_type": "code",
     "collapsed": false,
     "input": [
      "grouped['attempts'] = grouped.made + grouped.missed\n",
      "grouped['percentage'] = grouped.made / grouped.attempts.astype(float)"
     ],
     "language": "python",
     "metadata": {},
     "outputs": [],
     "prompt_number": 20
    },
    {
     "cell_type": "code",
     "collapsed": false,
     "input": [
      "t = threes.shot_result.value_counts()\n",
      "t = float(t['made']) / (t['made'] + t['missed'])"
     ],
     "language": "python",
     "metadata": {},
     "outputs": [],
     "prompt_number": 21
    },
    {
     "cell_type": "code",
     "collapsed": false,
     "input": [
      "plt.figure(figsize=(12.5, 7))\n",
      "\n",
      "plt.plot(grouped.percentage, label='O-Reb 3P%', color='#377EB8')\n",
      "plt.hlines(t, 0, 7, label='\"Normal\" 3P%', linestyles='--')\n",
      "plt.xlabel('Seconds Since Offensive Rebound')\n",
      "plt.xticks(np.arange(8))\n",
      "plt.ylabel('3-Point Percentage', labelpad=15)\n",
      "plt.grid(False)\n",
      "plt.legend(loc='lower right');"
     ],
     "language": "python",
     "metadata": {},
     "outputs": [
      {
       "metadata": {},
       "output_type": "display_data",
       "png": "[encoded data removed]",
       "text": [
        "<matplotlib.figure.Figure at 0x117447410>"
       ]
      }
     ],
     "prompt_number": 22
    },
    {
     "cell_type": "code",
     "collapsed": false,
     "input": [
      "convert = lambda x: True if x == 'made' else False\n",
      "\n",
      "normal_criteria = (melted.after_oreb == False) & melted.shot_result.notnull()\n",
      "normal = melted[normal_criteria].shot_result.apply(convert)\n",
      "\n",
      "after_criteria = (melted.after_oreb) & melted.shot_result.notnull() & \\\n",
      "                    (melted.secs_elapsed <= 7)\n",
      "after = melted[after_criteria].shot_result.apply(convert)"
     ],
     "language": "python",
     "metadata": {},
     "outputs": [],
     "prompt_number": 23
    },
    {
     "cell_type": "code",
     "collapsed": false,
     "input": [
      "print \"After O-Reb 3P%:\", after.mean()\n",
      "print \"Sample Size:\", len(after)\n",
      "print \"\\n\"\n",
      "print \"All other 3P%:\", normal.mean()\n",
      "print \"Sample Size:\", len(normal)\n",
      "print \"\\n\"\n",
      "print \"Absolute difference: %.4f\" % (after.mean() - normal.mean())"
     ],
     "language": "python",
     "metadata": {},
     "outputs": [
      {
       "output_type": "stream",
       "stream": "stdout",
       "text": [
        "After O-Reb 3P%: 0.349338178043\n",
        "Sample Size: 3853\n",
        "\n",
        "\n",
        "All other 3P%: 0.338926769318\n",
        "Sample Size: 84623\n",
        "\n",
        "\n",
        "Absolute difference: 0.0104\n"
       ]
      }
     ],
     "prompt_number": 24
    },
    {
     "cell_type": "code",
     "collapsed": false,
     "input": [
      "m = normal - normal.mean()\n",
      "m2 = m**2\n",
      "print (m2.sum() / len(m2)), normal.std()"
     ],
     "language": "python",
     "metadata": {},
     "outputs": [
      {
       "output_type": "stream",
       "stream": "stdout",
       "text": [
        "0.224055414358 0.473347717939\n"
       ]
      }
     ],
     "prompt_number": 25
    },
    {
     "cell_type": "code",
     "collapsed": false,
     "input": [
      "import pymc as pm"
     ],
     "language": "python",
     "metadata": {},
     "outputs": [],
     "prompt_number": 26
    },
    {
     "cell_type": "code",
     "collapsed": false,
     "input": [
      "with pm.Model() as model:\n",
      "    # no chance 3P% is out of this range\n",
      "    p_normal = pm.Uniform(\"p_normal\", lower=0.3, upper=0.4)\n",
      "    p_after = pm.Uniform(\"p_after\", lower=0.3, upper=0.4)\n",
      "    model.deterministics.append(pm.Deterministic(\"p_delta\",p_after-p_normal))\n",
      "    \n",
      "    # scraped observations\n",
      "    obs_normal = pm.Bernoulli(\"obs_normal\", p_normal, observed=normal.astype(int))\n",
      "    obs_after = pm.Bernoulli(\"obs_after\", p_after, observed=after.astype(int))  \n",
      "    \n",
      "    m = pm.HamiltonianMC()\n",
      "    print \"running...\"\n",
      "    trace = pm.psample(1000, m)"
     ],
     "language": "python",
     "metadata": {},
     "outputs": [
      {
       "output_type": "stream",
       "stream": "stdout",
       "text": [
        "running...\n"
       ]
      }
     ],
     "prompt_number": 73
    },
    {
     "cell_type": "code",
     "collapsed": false,
     "input": [
      "atrace = trace.combined()\n",
      "p_normal_samples = atrace['p_normal'][:]\n",
      "p_after_samples=  atrace['p_after'][:]\n",
      "delta_samples = atrace['p_after']-atrace['p_normal']"
     ],
     "language": "python",
     "metadata": {},
     "outputs": [],
     "prompt_number": 74
    },
    {
     "cell_type": "code",
     "collapsed": false,
     "input": [
      "plt.figure(figsize=(12.5, 10))\n",
      "\n",
      "ax = plt.subplot(311)\n",
      "plt.xlim(0.3, 0.4)\n",
      "plt.xticks(np.arange(0.3, 0.401, 0.01))\n",
      "plt.ylim(0, 300)\n",
      "plt.hist(p_normal_samples, histtype='stepfilled', bins=50, normed=True, \n",
      "         color='#E41A1C', label='3P% \"Normal\"')\n",
      "plt.vlines(normal.mean(), 0, 300, linestyles='--', label='True \"Normal\" 3P%')\n",
      "plt.legend()\n",
      "plt.grid(False)\n",
      "\n",
      "ax = plt.subplot(312)\n",
      "plt.xlim(0.3, 0.4)\n",
      "plt.xticks(np.arange(0.3, 0.401, 0.01))\n",
      "plt.ylim(0, 300)\n",
      "plt.hist(p_after_samples, histtype='stepfilled', bins=50, normed=True,\n",
      "         color='#4DAF4A', label='3P% After Off. Reb.')\n",
      "plt.vlines(after.mean(), 0, 300, linestyles='--',\n",
      "           label='True 3P% After Off. Reb.')\n",
      "plt.legend()\n",
      "plt.grid(False)\n",
      "\n",
      "ax = plt.subplot(313)\n",
      "plt.xlim(-0.05, 0.05)\n",
      "plt.xticks(np.arange(-0.05, 0.051, 0.01))\n",
      "plt.ylim(0, 300)\n",
      "plt.hist(delta_samples, histtype='stepfilled', bins=50, normed=True,\n",
      "         color='#377EB8', label='Delta')\n",
      "plt.vlines(0, 0, 300, linestyles='--', label='$H_0$ (No difference)')\n",
      "plt.legend()\n",
      "plt.grid(False);"
     ],
     "language": "python",
     "metadata": {},
     "outputs": [
      {
       "metadata": {},
       "output_type": "display_data",
       "png": "[encoded data removed]",
       "text": [
        "<matplotlib.figure.Figure at 0x13db5ec10>"
       ]
      }
     ],
     "prompt_number": 75
    },
    {
     "cell_type": "code",
     "collapsed": false,
     "input": [
      "print normal.std(), after.std(), p_normal_samples.std(), p_after_samples.std()"
     ],
     "language": "python",
     "metadata": {},
     "outputs": [
      {
       "output_type": "stream",
       "stream": "stdout",
       "text": [
        "0.473347717939 0.476822843387 0.0016462591967 0.00762804620874\n"
       ]
      }
     ],
     "prompt_number": 79
    },
    {
     "cell_type": "code",
     "collapsed": false,
     "input": [
      "print (\"3P% after offensive rebounds was more successful \"\n",
      "       \"in {0:.1f}% of simulations\").format((delta_trace > 0).mean() * 100)"
     ],
     "language": "python",
     "metadata": {},
     "outputs": [
      {
       "output_type": "stream",
       "stream": "stdout",
       "text": [
        "3P% after offensive rebounds was more successful in 91.1% of simulations\n"
       ]
      }
     ],
     "prompt_number": 77
    },
    {
     "cell_type": "code",
     "collapsed": false,
     "input": [],
     "language": "python",
     "metadata": {},
     "outputs": []
    }
   ],
   "metadata": {}
  }
 ]
}